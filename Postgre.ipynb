{
 "cells": [
  {
   "cell_type": "code",
   "execution_count": 1,
   "metadata": {},
   "outputs": [],
   "source": [
    "import pyodbc\n",
    "import dotenv\n",
    "import os"
   ]
  },
  {
   "cell_type": "markdown",
   "metadata": {},
   "source": [
    "# connexion : "
   ]
  },
  {
   "cell_type": "code",
   "execution_count": null,
   "metadata": {},
   "outputs": [],
   "source": [
    "dotenv.load_dotenv()"
   ]
  },
  {
   "cell_type": "code",
   "execution_count": 4,
   "metadata": {},
   "outputs": [
    {
     "data": {
      "text/plain": [
       "['SQL Server',\n",
       " 'Microsoft Access Driver (*.mdb, *.accdb)',\n",
       " 'Microsoft Excel Driver (*.xls, *.xlsx, *.xlsm, *.xlsb)',\n",
       " 'Microsoft Access Text Driver (*.txt, *.csv)',\n",
       " 'Microsoft Access dBASE Driver (*.dbf, *.ndx, *.mdx)',\n",
       " 'PostgreSQL ANSI(x64)',\n",
       " 'PostgreSQL Unicode(x64)',\n",
       " 'PostgreSQL ANSI',\n",
       " 'PostgreSQL Unicode']"
      ]
     },
     "execution_count": 4,
     "metadata": {},
     "output_type": "execute_result"
    }
   ],
   "source": [
    "import pyodbc\n",
    "pyodbc.drivers()"
   ]
  },
  {
   "cell_type": "code",
   "execution_count": 5,
   "metadata": {},
   "outputs": [
    {
     "name": "stdout",
     "output_type": "stream",
     "text": [
      "Connexion réussie à la base de données PostgreSQL !\n",
      "Version de PostgreSQL : PostgreSQL 17.0 (Debian 17.0-1.pgdg120+1) on x86_64-pc-linux-gnu, compiled by gcc (Debian 12.2.0-14) 12.2.0, 64-bit\n"
     ]
    }
   ],
   "source": [
    "import pyodbc\n",
    "\n",
    "# Remplacer par tes informations de connexion\n",
    "server = \"localhost\"\n",
    "port = os.getenv(\"SQL_PORT_LOCAL\")      \n",
    "database = \"mydb\"\n",
    "username = \"quentin\"\n",
    "\n",
    "with open(\"data\\postgre_pwd.txt\") as f :\n",
    "    password = f.read()\n",
    "\n",
    "    \n",
    "\n",
    "# Construire la chaîne de connexion\n",
    "connection_string = f\"DRIVER={{PostgreSQL Unicode(x64)}};SERVER={server};PORT={port};DATABASE={database};UID={username};PWD={password};\"\n",
    "\n",
    "try:\n",
    "    # Se connecter à la base de données\n",
    "    conn = pyodbc.connect(connection_string)\n",
    "    print(\"Connexion réussie à la base de données PostgreSQL !\")\n",
    "    \n",
    "    # Créer un curseur pour exécuter des requêtes\n",
    "    cursor = conn.cursor()\n",
    "    \n",
    "    # Exemple d'exécution d'une requête\n",
    "    cursor.execute(\"SELECT version();\")\n",
    "    row = cursor.fetchone()\n",
    "    \n",
    "    print(f\"Version de PostgreSQL : {row[0]}\")\n",
    "    \n",
    "    # Fermer la connexion\n",
    "    cursor.close()\n",
    "    conn.close()\n",
    "\n",
    "except Exception as e:\n",
    "    print(f\"Erreur lors de la connexion : {e}\")"
   ]
  },
  {
   "cell_type": "markdown",
   "metadata": {},
   "source": [
    "# write into db : "
   ]
  },
  {
   "cell_type": "markdown",
   "metadata": {},
   "source": [
    "Le paramétre timestamp a été paramétré de façon a se remplir tout seul lors de la creation de table avec la commande : \n",
    "\n",
    "CREATE TABLE sensor_data (\n",
    "    id SERIAL PRIMARY KEY,                  -- Clé primaire automatique\n",
    "    sensor_id VARCHAR(255) NOT NULL,        -- ID du capteur (texte)\n",
    "    timestamp TIMESTAMP WITH TIME ZONE DEFAULT CURRENT_TIMESTAMP, -- Timestamp par défaut en UTC\n",
    "    temperature NUMERIC(5, 2) NOT NULL,     -- Température avec 2 décimales\n",
    "    humidity INTEGER NOT NULL,              -- Humidité (entier)\n",
    "    msg TEXT                                -- Message de description (texte)\n",
    ");\n",
    "\n",
    "\n",
    "Pour être sûr de l'heure par defaut qui va être inscrite on peut executer : SHOW timezone;\n",
    "\n",
    "Cela permet de connaitre la timezone par defaut du server : ici c'est l'heure de paris qui est écrite."
   ]
  },
  {
   "cell_type": "code",
   "execution_count": 23,
   "metadata": {},
   "outputs": [
    {
     "name": "stdout",
     "output_type": "stream",
     "text": [
      "Données insérées avec succès !\n"
     ]
    }
   ],
   "source": [
    "import pyodbc\n",
    "import time\n",
    "\n",
    "# Remplacer par tes informations de connexion\n",
    "server = \"localhost\"\n",
    "port = os.getenv(\"SQL_PORT_LOCAL\")\n",
    "database = \"mydb\"\n",
    "username = \"quentin\"\n",
    "\n",
    "with open(\"data\\postgre_pwd.txt\") as f :\n",
    "    password = f.read()\n",
    "\n",
    "# Construire la chaîne de connexion\n",
    "connection_string = f\"DRIVER={{PostgreSQL Unicode(x64)}};SERVER={server};PORT={port};DATABASE={database};UID={username};PWD={password};\"\n",
    "\n",
    "# Dictionnaire à insérer\n",
    "message = {\n",
    "    'sensor_id': '1234',\n",
    "    'temperature': 25.6,\n",
    "    'humidity': 60,\n",
    "    'msg': \"Message received\"\n",
    "}\n",
    "\n",
    "# Requête d'insertion SQL\n",
    "insert_query = \"\"\"\n",
    "    INSERT INTO sensor_data (sensor_id, temperature, humidity, msg)\n",
    "    VALUES (?, ?, ?, ?);\n",
    "\"\"\"\n",
    "\n",
    "try:\n",
    "    # Se connecter à la base de données\n",
    "    conn = pyodbc.connect(connection_string)\n",
    "    cursor = conn.cursor()\n",
    "\n",
    "    # Exécuter l'insertion\n",
    "    cursor.execute(insert_query, message['sensor_id'], message['temperature'], message['humidity'], message['msg'])\n",
    "\n",
    "    # Valider la transaction\n",
    "    conn.commit()\n",
    "\n",
    "    print(\"Données insérées avec succès !\")\n",
    "\n",
    "    # Fermer la connexion\n",
    "    cursor.close()\n",
    "    conn.close()\n",
    "\n",
    "except Exception as e:\n",
    "    print(f\"Erreur lors de l'insertion : {e}\")\n"
   ]
  }
 ],
 "metadata": {
  "kernelspec": {
   "display_name": ".conda",
   "language": "python",
   "name": "python3"
  },
  "language_info": {
   "codemirror_mode": {
    "name": "ipython",
    "version": 3
   },
   "file_extension": ".py",
   "mimetype": "text/x-python",
   "name": "python",
   "nbconvert_exporter": "python",
   "pygments_lexer": "ipython3",
   "version": "3.11.10"
  }
 },
 "nbformat": 4,
 "nbformat_minor": 2
}
