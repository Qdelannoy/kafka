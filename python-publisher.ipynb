{
 "cells": [
  {
   "cell_type": "code",
   "execution_count": 7,
   "metadata": {},
   "outputs": [],
   "source": [
    "from confluent_kafka import Producer\n",
    "import json\n",
    "from dotenv import load_dotenv\n",
    "import os"
   ]
  },
  {
   "cell_type": "code",
   "execution_count": 8,
   "metadata": {},
   "outputs": [
    {
     "data": {
      "text/plain": [
       "True"
      ]
     },
     "execution_count": 8,
     "metadata": {},
     "output_type": "execute_result"
    }
   ],
   "source": [
    "# Charger le fichier .env\n",
    "load_dotenv()"
   ]
  },
  {
   "cell_type": "code",
   "execution_count": 9,
   "metadata": {},
   "outputs": [],
   "source": [
    "Kafka_boostrap_server = 'localhost:' + os.getenv(\"KAFKA_PORT_LOCAL\") "
   ]
  },
  {
   "cell_type": "markdown",
   "metadata": {},
   "source": [
    "Ce script vise à prendre la place de la machine qui publie directement dans le topic."
   ]
  },
  {
   "cell_type": "code",
   "execution_count": 11,
   "metadata": {},
   "outputs": [
    {
     "name": "stdout",
     "output_type": "stream",
     "text": [
      "Envoi : {'sensor_id': '1234', 'temperature': 25.6, 'humidity': 60, 'msg': 'Message 0 received 24/10/2024'}\n",
      "Envoi : {'sensor_id': '1234', 'temperature': 25.6, 'humidity': 60, 'msg': 'Message 1 received 24/10/2024'}\n",
      "Envoi : {'sensor_id': '1234', 'temperature': 25.6, 'humidity': 60, 'msg': 'Message 2 received 24/10/2024'}\n",
      "Envoi : {'sensor_id': '1234', 'temperature': 25.6, 'humidity': 60, 'msg': 'Message 3 received 24/10/2024'}\n",
      "Envoi : {'sensor_id': '1234', 'temperature': 25.6, 'humidity': 60, 'msg': 'Message 4 received 24/10/2024'}\n",
      "Envoi : {'sensor_id': '1234', 'temperature': 25.6, 'humidity': 60, 'msg': 'Message 5 received 24/10/2024'}\n",
      "Envoi : {'sensor_id': '1234', 'temperature': 25.6, 'humidity': 60, 'msg': 'Message 6 received 24/10/2024'}\n",
      "Envoi : {'sensor_id': '1234', 'temperature': 25.6, 'humidity': 60, 'msg': 'Message 7 received 24/10/2024'}\n",
      "Envoi : {'sensor_id': '1234', 'temperature': 25.6, 'humidity': 60, 'msg': 'Message 8 received 24/10/2024'}\n",
      "Envoi : {'sensor_id': '1234', 'temperature': 25.6, 'humidity': 60, 'msg': 'Message 9 received 24/10/2024'}\n",
      "Message envoyé au topic test-topic-init [partition 0]\n",
      "Message envoyé au topic test-topic-init [partition 0]\n",
      "Message envoyé au topic test-topic-init [partition 1]\n",
      "Message envoyé au topic test-topic-init [partition 1]\n",
      "Message envoyé au topic test-topic-init [partition 1]\n",
      "Message envoyé au topic test-topic-init [partition 1]\n",
      "Message envoyé au topic test-topic-init [partition 1]\n",
      "Message envoyé au topic test-topic-init [partition 2]\n",
      "Message envoyé au topic test-topic-init [partition 2]\n",
      "Message envoyé au topic test-topic-init [partition 2]\n"
     ]
    }
   ],
   "source": [
    "\n",
    "# Configuration du producteur Kafka\n",
    "producer_config = {\n",
    "    'bootstrap.servers': Kafka_boostrap_server  # Adresse du serveur Kafka\n",
    "}\n",
    "\n",
    "# Créer le producteur Kafka\n",
    "producer = Producer(producer_config)\n",
    "\n",
    "# Callback pour la confirmation de l'envoi des messages\n",
    "def delivery_report(err, msg):\n",
    "    \"\"\" Appelé lorsque la livraison est confirmée ou échoue \"\"\"\n",
    "    if err is not None:\n",
    "        print(f\"Erreur d'envoi : {err}\")\n",
    "    else:\n",
    "        print(f\"Message envoyé au topic {msg.topic()} [partition {msg.partition()}]\")\n",
    "\n",
    "# Fonction pour produire des messages\n",
    "def produce_messages():\n",
    "    topic_name = 'test-topic-init'  # Nom du topic où envoyer les messages\n",
    "\n",
    "    for i in range(10):\n",
    "        message = {\n",
    "                    'sensor_id': '1234',\n",
    "                    'temperature': 25.6,\n",
    "                    'humidity': 60,\n",
    "                    'msg' : f\"Message {i} received 24/10/2024\" \n",
    "                    }\n",
    "        \n",
    "\n",
    "        message_json = json.dumps(message).encode('utf-8')\n",
    "         # Message à envoyer\n",
    "        producer.produce(topic_name, key=str(i), value=message_json, callback=delivery_report)\n",
    "        \n",
    "        print(f\"Envoi : {message}\")\n",
    "\n",
    "    # S'assurer que tous les messages ont été envoyés\n",
    "    producer.flush()\n",
    "\n",
    "# Appeler la fonction pour produire des message\n",
    "if __name__ == \"__main__\":\n",
    "    produce_messages()"
   ]
  },
  {
   "cell_type": "code",
   "execution_count": null,
   "metadata": {},
   "outputs": [],
   "source": []
  }
 ],
 "metadata": {
  "kernelspec": {
   "display_name": ".conda",
   "language": "python",
   "name": "python3"
  },
  "language_info": {
   "codemirror_mode": {
    "name": "ipython",
    "version": 3
   },
   "file_extension": ".py",
   "mimetype": "text/x-python",
   "name": "python",
   "nbconvert_exporter": "python",
   "pygments_lexer": "ipython3",
   "version": "3.11.10"
  }
 },
 "nbformat": 4,
 "nbformat_minor": 2
}
